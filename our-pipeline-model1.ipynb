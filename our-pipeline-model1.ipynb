{
 "cells": [
  {
   "cell_type": "code",
   "execution_count": 1,
   "id": "7fa0770b",
   "metadata": {
    "_cell_guid": "b1076dfc-b9ad-4769-8c92-a6c4dae69d19",
    "_uuid": "8f2839f25d086af736a60e9eeb907d3b93b6e0e5",
    "execution": {
     "iopub.execute_input": "2024-11-03T00:49:15.921533Z",
     "iopub.status.busy": "2024-11-03T00:49:15.921118Z",
     "iopub.status.idle": "2024-11-03T00:49:16.712391Z",
     "shell.execute_reply": "2024-11-03T00:49:16.711370Z"
    },
    "papermill": {
     "duration": 0.802822,
     "end_time": "2024-11-03T00:49:16.714644",
     "exception": false,
     "start_time": "2024-11-03T00:49:15.911822",
     "status": "completed"
    },
    "tags": []
   },
   "outputs": [
    {
     "name": "stdout",
     "output_type": "stream",
     "text": [
      "/kaggle/input/cyberguard/test1.csv\n",
      "/kaggle/input/cyberguard/train1.csv\n",
      "/kaggle/input/final-train-cybergraud/final_train.csv\n"
     ]
    }
   ],
   "source": [
    "# This Python 3 environment comes with many helpful analytics libraries installed\n",
    "# It is defined by the kaggle/python Docker image: https://github.com/kaggle/docker-python\n",
    "# For example, here's several helpful packages to load\n",
    "\n",
    "import numpy as np # linear algebra\n",
    "import pandas as pd # data processing, CSV file I/O (e.g. pd.read_csv)\n",
    "\n",
    "# Input data files are available in the read-only \"../input/\" directory\n",
    "# For example, running this (by clicking run or pressing Shift+Enter) will list all files under the input directory\n",
    "\n",
    "import os\n",
    "for dirname, _, filenames in os.walk('/kaggle/input'):\n",
    "    for filename in filenames:\n",
    "        print(os.path.join(dirname, filename))\n",
    "\n",
    "# You can write up to 20GB to the current directory (/kaggle/working/) that gets preserved as output when you create a version using \"Save & Run All\" \n",
    "# You can also write temporary files to /kaggle/temp/, but they won't be saved outside of the current session"
   ]
  },
  {
   "cell_type": "code",
   "execution_count": 2,
   "id": "7bd196c0",
   "metadata": {
    "execution": {
     "iopub.execute_input": "2024-11-03T00:49:16.730894Z",
     "iopub.status.busy": "2024-11-03T00:49:16.730467Z",
     "iopub.status.idle": "2024-11-03T00:49:17.740612Z",
     "shell.execute_reply": "2024-11-03T00:49:17.739689Z"
    },
    "papermill": {
     "duration": 1.02051,
     "end_time": "2024-11-03T00:49:17.742770",
     "exception": false,
     "start_time": "2024-11-03T00:49:16.722260",
     "status": "completed"
    },
    "tags": []
   },
   "outputs": [
    {
     "data": {
      "text/html": [
       "<div>\n",
       "<style scoped>\n",
       "    .dataframe tbody tr th:only-of-type {\n",
       "        vertical-align: middle;\n",
       "    }\n",
       "\n",
       "    .dataframe tbody tr th {\n",
       "        vertical-align: top;\n",
       "    }\n",
       "\n",
       "    .dataframe thead th {\n",
       "        text-align: right;\n",
       "    }\n",
       "</style>\n",
       "<table border=\"1\" class=\"dataframe\">\n",
       "  <thead>\n",
       "    <tr style=\"text-align: right;\">\n",
       "      <th></th>\n",
       "      <th>Unnamed: 0</th>\n",
       "      <th>category</th>\n",
       "      <th>sub_category</th>\n",
       "      <th>crimeaditionalinfo</th>\n",
       "    </tr>\n",
       "  </thead>\n",
       "  <tbody>\n",
       "    <tr>\n",
       "      <th>0</th>\n",
       "      <td>79181</td>\n",
       "      <td>Any Other Cyber Crime</td>\n",
       "      <td>Other</td>\n",
       "      <td>mera debit card mere husband ke pass tha joki ...</td>\n",
       "    </tr>\n",
       "    <tr>\n",
       "      <th>1</th>\n",
       "      <td>44317</td>\n",
       "      <td>Sexually Obscene material</td>\n",
       "      <td>NaN</td>\n",
       "      <td>I clicked on an escort service website and sta...</td>\n",
       "    </tr>\n",
       "    <tr>\n",
       "      <th>2</th>\n",
       "      <td>6843</td>\n",
       "      <td>Online Financial Fraud</td>\n",
       "      <td>UPI Related Frauds</td>\n",
       "      <td>Respected sir or madam\\r\\nI am A DhanushPh no ...</td>\n",
       "    </tr>\n",
       "    <tr>\n",
       "      <th>3</th>\n",
       "      <td>34702</td>\n",
       "      <td>Online and Social Media Related Crime</td>\n",
       "      <td>FakeImpersonating Profile</td>\n",
       "      <td>Someone is using my photo and name and created...</td>\n",
       "    </tr>\n",
       "    <tr>\n",
       "      <th>4</th>\n",
       "      <td>95645</td>\n",
       "      <td>Sexually Explicit Act</td>\n",
       "      <td>NaN</td>\n",
       "      <td>Maine ek galat number pe payment kiya, jiska o...</td>\n",
       "    </tr>\n",
       "    <tr>\n",
       "      <th>...</th>\n",
       "      <td>...</td>\n",
       "      <td>...</td>\n",
       "      <td>...</td>\n",
       "      <td>...</td>\n",
       "    </tr>\n",
       "    <tr>\n",
       "      <th>96585</th>\n",
       "      <td>6265</td>\n",
       "      <td>Sexually Obscene material</td>\n",
       "      <td>NaN</td>\n",
       "      <td>My money is dedicated please help me please re...</td>\n",
       "    </tr>\n",
       "    <tr>\n",
       "      <th>96586</th>\n",
       "      <td>54886</td>\n",
       "      <td>Online Financial Fraud</td>\n",
       "      <td>EWallet Related Fraud</td>\n",
       "      <td>gaw dabli khurd ward no dishanumangarh pstalwa...</td>\n",
       "    </tr>\n",
       "    <tr>\n",
       "      <th>96587</th>\n",
       "      <td>76820</td>\n",
       "      <td>Online Financial Fraud</td>\n",
       "      <td>Internet Banking Related Fraud</td>\n",
       "      <td>A message came from Facebook id named about a ...</td>\n",
       "    </tr>\n",
       "    <tr>\n",
       "      <th>96588</th>\n",
       "      <td>860</td>\n",
       "      <td>Online Financial Fraud</td>\n",
       "      <td>Fraud CallVishing</td>\n",
       "      <td>My issue is going on with samsung for repair o...</td>\n",
       "    </tr>\n",
       "    <tr>\n",
       "      <th>96589</th>\n",
       "      <td>15795</td>\n",
       "      <td>Online Financial Fraud</td>\n",
       "      <td>Fraud CallVishing</td>\n",
       "      <td>Sir daily unke other other no Se msg aate hai ...</td>\n",
       "    </tr>\n",
       "  </tbody>\n",
       "</table>\n",
       "<p>96590 rows × 4 columns</p>\n",
       "</div>"
      ],
      "text/plain": [
       "       Unnamed: 0                               category  \\\n",
       "0           79181                  Any Other Cyber Crime   \n",
       "1           44317              Sexually Obscene material   \n",
       "2            6843                 Online Financial Fraud   \n",
       "3           34702  Online and Social Media Related Crime   \n",
       "4           95645                  Sexually Explicit Act   \n",
       "...           ...                                    ...   \n",
       "96585        6265              Sexually Obscene material   \n",
       "96586       54886                 Online Financial Fraud   \n",
       "96587       76820                 Online Financial Fraud   \n",
       "96588         860                 Online Financial Fraud   \n",
       "96589       15795                 Online Financial Fraud   \n",
       "\n",
       "                         sub_category  \\\n",
       "0                               Other   \n",
       "1                                 NaN   \n",
       "2                  UPI Related Frauds   \n",
       "3           FakeImpersonating Profile   \n",
       "4                                 NaN   \n",
       "...                               ...   \n",
       "96585                             NaN   \n",
       "96586           EWallet Related Fraud   \n",
       "96587  Internet Banking Related Fraud   \n",
       "96588               Fraud CallVishing   \n",
       "96589               Fraud CallVishing   \n",
       "\n",
       "                                      crimeaditionalinfo  \n",
       "0      mera debit card mere husband ke pass tha joki ...  \n",
       "1      I clicked on an escort service website and sta...  \n",
       "2      Respected sir or madam\\r\\nI am A DhanushPh no ...  \n",
       "3      Someone is using my photo and name and created...  \n",
       "4      Maine ek galat number pe payment kiya, jiska o...  \n",
       "...                                                  ...  \n",
       "96585  My money is dedicated please help me please re...  \n",
       "96586  gaw dabli khurd ward no dishanumangarh pstalwa...  \n",
       "96587  A message came from Facebook id named about a ...  \n",
       "96588  My issue is going on with samsung for repair o...  \n",
       "96589  Sir daily unke other other no Se msg aate hai ...  \n",
       "\n",
       "[96590 rows x 4 columns]"
      ]
     },
     "execution_count": 2,
     "metadata": {},
     "output_type": "execute_result"
    }
   ],
   "source": [
    "# CLEANING THE DATASET\n",
    "# 1. removing all duplicates\n",
    "df = pd.read_csv('/kaggle/input/final-train-cybergraud/final_train.csv')\n",
    "df = df.sample(frac=1, random_state=42).reset_index(drop=True)\n",
    "\n",
    "df\n"
   ]
  },
  {
   "cell_type": "code",
   "execution_count": 3,
   "id": "d1f79057",
   "metadata": {
    "execution": {
     "iopub.execute_input": "2024-11-03T00:49:17.759499Z",
     "iopub.status.busy": "2024-11-03T00:49:17.758755Z",
     "iopub.status.idle": "2024-11-03T00:49:17.762702Z",
     "shell.execute_reply": "2024-11-03T00:49:17.761894Z"
    },
    "papermill": {
     "duration": 0.014211,
     "end_time": "2024-11-03T00:49:17.764605",
     "exception": false,
     "start_time": "2024-11-03T00:49:17.750394",
     "status": "completed"
    },
    "tags": []
   },
   "outputs": [],
   "source": [
    "# df = pd.read_csv('/kaggle/input/cyberguard/train1.csv')\n",
    "# df = df.groupby('category').apply(lambda x: x.drop_duplicates(subset='crimeaditionalinfo')).reset_index(drop=True)\n",
    "# df\n",
    "# THIS REMOVES THE DUPLICATES IN EACH CATEGORY"
   ]
  },
  {
   "cell_type": "code",
   "execution_count": 4,
   "id": "a33d5d05",
   "metadata": {
    "execution": {
     "iopub.execute_input": "2024-11-03T00:49:17.781945Z",
     "iopub.status.busy": "2024-11-03T00:49:17.781639Z",
     "iopub.status.idle": "2024-11-03T00:49:17.785378Z",
     "shell.execute_reply": "2024-11-03T00:49:17.784551Z"
    },
    "papermill": {
     "duration": 0.013963,
     "end_time": "2024-11-03T00:49:17.787264",
     "exception": false,
     "start_time": "2024-11-03T00:49:17.773301",
     "status": "completed"
    },
    "tags": []
   },
   "outputs": [],
   "source": [
    "# df[(df['category'] == 'Any Other Cyber Crime') & (df['sub_category'] == 'Other')]\n",
    "# # ALL OTHER CYBER CRIME ARE OTHER"
   ]
  },
  {
   "cell_type": "code",
   "execution_count": null,
   "id": "62218c08",
   "metadata": {
    "papermill": {
     "duration": 0.007461,
     "end_time": "2024-11-03T00:49:17.802104",
     "exception": false,
     "start_time": "2024-11-03T00:49:17.794643",
     "status": "completed"
    },
    "tags": []
   },
   "outputs": [],
   "source": [
    " "
   ]
  },
  {
   "cell_type": "code",
   "execution_count": 5,
   "id": "05b12d48",
   "metadata": {
    "execution": {
     "iopub.execute_input": "2024-11-03T00:49:17.819020Z",
     "iopub.status.busy": "2024-11-03T00:49:17.818207Z",
     "iopub.status.idle": "2024-11-03T00:49:17.822481Z",
     "shell.execute_reply": "2024-11-03T00:49:17.821512Z"
    },
    "papermill": {
     "duration": 0.014857,
     "end_time": "2024-11-03T00:49:17.824494",
     "exception": false,
     "start_time": "2024-11-03T00:49:17.809637",
     "status": "completed"
    },
    "tags": []
   },
   "outputs": [],
   "source": [
    "# df = df.drop_duplicates(subset='crimeaditionalinfo')\n",
    "# df"
   ]
  },
  {
   "cell_type": "code",
   "execution_count": null,
   "id": "4323dd54",
   "metadata": {
    "papermill": {
     "duration": 0.007173,
     "end_time": "2024-11-03T00:49:17.839431",
     "exception": false,
     "start_time": "2024-11-03T00:49:17.832258",
     "status": "completed"
    },
    "tags": []
   },
   "outputs": [],
   "source": []
  },
  {
   "cell_type": "code",
   "execution_count": 6,
   "id": "42d21733",
   "metadata": {
    "execution": {
     "iopub.execute_input": "2024-11-03T00:49:17.856082Z",
     "iopub.status.busy": "2024-11-03T00:49:17.855292Z",
     "iopub.status.idle": "2024-11-03T00:49:17.859295Z",
     "shell.execute_reply": "2024-11-03T00:49:17.858420Z"
    },
    "papermill": {
     "duration": 0.014279,
     "end_time": "2024-11-03T00:49:17.861169",
     "exception": false,
     "start_time": "2024-11-03T00:49:17.846890",
     "status": "completed"
    },
    "tags": []
   },
   "outputs": [],
   "source": [
    "# test = pd.read_csv('/kaggle/input/cyberguard/test1.csv')\n",
    "# test"
   ]
  },
  {
   "cell_type": "code",
   "execution_count": 7,
   "id": "dc43d85b",
   "metadata": {
    "execution": {
     "iopub.execute_input": "2024-11-03T00:49:17.877683Z",
     "iopub.status.busy": "2024-11-03T00:49:17.877335Z",
     "iopub.status.idle": "2024-11-03T00:49:17.903552Z",
     "shell.execute_reply": "2024-11-03T00:49:17.902684Z"
    },
    "papermill": {
     "duration": 0.037146,
     "end_time": "2024-11-03T00:49:17.905606",
     "exception": false,
     "start_time": "2024-11-03T00:49:17.868460",
     "status": "completed"
    },
    "tags": []
   },
   "outputs": [
    {
     "data": {
      "text/plain": [
       "category\n",
       "Online Financial Fraud                                  57434\n",
       "Online and Social Media Related Crime                   12140\n",
       "Any Other Cyber Crime                                   10878\n",
       "Cyber Attack/ Dependent Crimes                           3608\n",
       "Sexually Explicit Act                                    3000\n",
       "RapeGang Rape RGRSexually Abusive Content                2822\n",
       "Sexually Obscene material                                1838\n",
       "Hacking  Damage to computercomputer system etc           1710\n",
       "Online Gambling  Betting                                 1000\n",
       "Cyber Terrorism                                           500\n",
       "Online Cyber Trafficking                                  500\n",
       "Cryptocurrency Crime                                      480\n",
       "Child Pornography CPChild Sexual Abuse Material CSAM      379\n",
       "Ransomware                                                300\n",
       "Report Unlawful Content                                     1\n",
       "Name: count, dtype: int64"
      ]
     },
     "execution_count": 7,
     "metadata": {},
     "output_type": "execute_result"
    }
   ],
   "source": [
    "df['category'].value_counts()\n",
    "# # online fin fraud, RGR , "
   ]
  },
  {
   "cell_type": "code",
   "execution_count": 8,
   "id": "9246dab4",
   "metadata": {
    "execution": {
     "iopub.execute_input": "2024-11-03T00:49:17.922707Z",
     "iopub.status.busy": "2024-11-03T00:49:17.922404Z",
     "iopub.status.idle": "2024-11-03T00:49:17.926425Z",
     "shell.execute_reply": "2024-11-03T00:49:17.925521Z"
    },
    "papermill": {
     "duration": 0.014642,
     "end_time": "2024-11-03T00:49:17.928460",
     "exception": false,
     "start_time": "2024-11-03T00:49:17.913818",
     "status": "completed"
    },
    "tags": []
   },
   "outputs": [],
   "source": [
    "# test.value_counts('category')"
   ]
  },
  {
   "cell_type": "code",
   "execution_count": 9,
   "id": "2d387a2c",
   "metadata": {
    "execution": {
     "iopub.execute_input": "2024-11-03T00:49:17.945656Z",
     "iopub.status.busy": "2024-11-03T00:49:17.944870Z",
     "iopub.status.idle": "2024-11-03T00:49:17.948987Z",
     "shell.execute_reply": "2024-11-03T00:49:17.948120Z"
    },
    "papermill": {
     "duration": 0.014818,
     "end_time": "2024-11-03T00:49:17.950901",
     "exception": false,
     "start_time": "2024-11-03T00:49:17.936083",
     "status": "completed"
    },
    "tags": []
   },
   "outputs": [],
   "source": [
    "# df['newlines'] = df['crimeaditionalinfo'].str.count('ID')\n",
    "# df[df['newlines'] > 1].value_counts('category')\n",
    "# ID string literally identifies 85% of SA content cases"
   ]
  },
  {
   "cell_type": "code",
   "execution_count": 10,
   "id": "c690cd14",
   "metadata": {
    "execution": {
     "iopub.execute_input": "2024-11-03T00:49:17.967193Z",
     "iopub.status.busy": "2024-11-03T00:49:17.966897Z",
     "iopub.status.idle": "2024-11-03T00:49:17.971588Z",
     "shell.execute_reply": "2024-11-03T00:49:17.970764Z"
    },
    "papermill": {
     "duration": 0.015165,
     "end_time": "2024-11-03T00:49:17.973708",
     "exception": false,
     "start_time": "2024-11-03T00:49:17.958543",
     "status": "completed"
    },
    "tags": []
   },
   "outputs": [],
   "source": [
    "# df[df['category']=='Ransomware']\n",
    "# import pandas as pd\n",
    "# from collections import Counter\n",
    "# import matplotlib.pyplot as plt\n",
    "\n",
    "# # Filter the DataFrame to only include rows where the category is 'Ransomware'\n",
    "# ransomware_df = df[df['category'] == 'Ransomware']\n",
    "\n",
    "# # Join all the strings in the 'category' column into a single string\n",
    "# all_text = ' '.join(ransomware_df['crimeaditionalinfo'].values)\n",
    "\n",
    "# # Split the string into a list of words\n",
    "# words = all_text.split()\n",
    "\n",
    "# # Count the occurrences of each word\n",
    "# word_counts = Counter(words)\n",
    "\n",
    "# # Get the top 10 most common words\n",
    "# top_words = word_counts.most_common(100)\n",
    "\n",
    "# # Create a DataFrame from the top words\n",
    "# top_words_df = pd.DataFrame(top_words, columns=['word', 'count'])\n",
    "\n",
    "# # Plot the top words\n",
    "# plt.figure(figsize=(10, 96))\n",
    "# plt.barh(top_words_df['word'], top_words_df['count'])\n",
    "# plt.xlabel('Count')\n",
    "# plt.ylabel('Word')\n",
    "# plt.title('Top 10 most common words in Ransomware category')\n",
    "# plt.gca().invert_yaxis()\n",
    "# plt.show()\n",
    "\n",
    "\n",
    "\n",
    "# for RANSOMWARE\n",
    "# most interesting are files, data, ransomware, encrypted\n"
   ]
  },
  {
   "cell_type": "code",
   "execution_count": 11,
   "id": "b225d135",
   "metadata": {
    "execution": {
     "iopub.execute_input": "2024-11-03T00:49:17.990107Z",
     "iopub.status.busy": "2024-11-03T00:49:17.989798Z",
     "iopub.status.idle": "2024-11-03T00:49:17.993580Z",
     "shell.execute_reply": "2024-11-03T00:49:17.992680Z"
    },
    "papermill": {
     "duration": 0.014398,
     "end_time": "2024-11-03T00:49:17.995553",
     "exception": false,
     "start_time": "2024-11-03T00:49:17.981155",
     "status": "completed"
    },
    "tags": []
   },
   "outputs": [],
   "source": [
    "# df[df['crimeaditionalinfo'].str.count('Respected Sir') > 0] #value_counts('category')\n",
    "# LOOKS LIKE THERE IS MAJOR OVERLAP BETWEEN RANSOMWARE, FINANCIAL FRAUD, sOCIAL MEDIA CRIME, OTHER CYBER CRIME\n",
    "# there is a need for feature enginnering to seperate online financial fraud\n"
   ]
  },
  {
   "cell_type": "code",
   "execution_count": 12,
   "id": "219c276f",
   "metadata": {
    "execution": {
     "iopub.execute_input": "2024-11-03T00:49:18.012052Z",
     "iopub.status.busy": "2024-11-03T00:49:18.011691Z",
     "iopub.status.idle": "2024-11-03T00:49:18.016055Z",
     "shell.execute_reply": "2024-11-03T00:49:18.015188Z"
    },
    "papermill": {
     "duration": 0.014774,
     "end_time": "2024-11-03T00:49:18.017996",
     "exception": false,
     "start_time": "2024-11-03T00:49:18.003222",
     "status": "completed"
    },
    "tags": []
   },
   "outputs": [],
   "source": [
    "# df.iloc[25]['crimeaditionalinfo']"
   ]
  },
  {
   "cell_type": "code",
   "execution_count": 13,
   "id": "2f6afc7b",
   "metadata": {
    "execution": {
     "iopub.execute_input": "2024-11-03T00:49:18.034829Z",
     "iopub.status.busy": "2024-11-03T00:49:18.034375Z",
     "iopub.status.idle": "2024-11-03T00:49:42.513439Z",
     "shell.execute_reply": "2024-11-03T00:49:42.512485Z"
    },
    "papermill": {
     "duration": 24.490541,
     "end_time": "2024-11-03T00:49:42.516089",
     "exception": false,
     "start_time": "2024-11-03T00:49:18.025548",
     "status": "completed"
    },
    "tags": []
   },
   "outputs": [
    {
     "data": {
      "application/vnd.jupyter.widget-view+json": {
       "model_id": "05f4845794664f57a702ef7748ee0fc3",
       "version_major": 2,
       "version_minor": 0
      },
      "text/plain": [
       "tokenizer_config.json:   0%|          | 0.00/406 [00:00<?, ?B/s]"
      ]
     },
     "metadata": {},
     "output_type": "display_data"
    },
    {
     "data": {
      "application/vnd.jupyter.widget-view+json": {
       "model_id": "6daf4eb5253e4d2ab969812c24726318",
       "version_major": 2,
       "version_minor": 0
      },
      "text/plain": [
       "tokenizer.json:   0%|          | 0.00/17.1M [00:00<?, ?B/s]"
      ]
     },
     "metadata": {},
     "output_type": "display_data"
    },
    {
     "data": {
      "application/vnd.jupyter.widget-view+json": {
       "model_id": "c139dd35126d4a8590b84ca955ab001c",
       "version_major": 2,
       "version_minor": 0
      },
      "text/plain": [
       "special_tokens_map.json:   0%|          | 0.00/239 [00:00<?, ?B/s]"
      ]
     },
     "metadata": {},
     "output_type": "display_data"
    },
    {
     "name": "stderr",
     "output_type": "stream",
     "text": [
      "/opt/conda/lib/python3.10/site-packages/transformers/tokenization_utils_base.py:1617: FutureWarning: `clean_up_tokenization_spaces` was not set. It will be set to `True` by default. This behavior will be deprecated in transformers v4.45, and will be then set to `False` by default. For more details check this issue: https://github.com/huggingface/transformers/issues/31884\n",
      "  warnings.warn(\n"
     ]
    }
   ],
   "source": [
    "from transformers import AutoTokenizer, AutoModelForSequenceClassification, Trainer, TrainingArguments\n",
    "from sklearn.model_selection import train_test_split\n",
    "import torch\n",
    "tokenizer = AutoTokenizer.from_pretrained('l3cube-pune/hing-roberta')\n",
    "\n"
   ]
  },
  {
   "cell_type": "code",
   "execution_count": 14,
   "id": "3843d664",
   "metadata": {
    "execution": {
     "iopub.execute_input": "2024-11-03T00:49:42.542680Z",
     "iopub.status.busy": "2024-11-03T00:49:42.541779Z",
     "iopub.status.idle": "2024-11-03T00:49:42.696842Z",
     "shell.execute_reply": "2024-11-03T00:49:42.695888Z"
    },
    "papermill": {
     "duration": 0.166694,
     "end_time": "2024-11-03T00:49:42.699029",
     "exception": false,
     "start_time": "2024-11-03T00:49:42.532335",
     "status": "completed"
    },
    "tags": []
   },
   "outputs": [
    {
     "data": {
      "text/html": [
       "<div>\n",
       "<style scoped>\n",
       "    .dataframe tbody tr th:only-of-type {\n",
       "        vertical-align: middle;\n",
       "    }\n",
       "\n",
       "    .dataframe tbody tr th {\n",
       "        vertical-align: top;\n",
       "    }\n",
       "\n",
       "    .dataframe thead th {\n",
       "        text-align: right;\n",
       "    }\n",
       "</style>\n",
       "<table border=\"1\" class=\"dataframe\">\n",
       "  <thead>\n",
       "    <tr style=\"text-align: right;\">\n",
       "      <th></th>\n",
       "      <th>Unnamed: 0</th>\n",
       "      <th>category</th>\n",
       "      <th>sub_category</th>\n",
       "      <th>crimeaditionalinfo</th>\n",
       "      <th>label</th>\n",
       "      <th>length</th>\n",
       "    </tr>\n",
       "  </thead>\n",
       "  <tbody>\n",
       "    <tr>\n",
       "      <th>0</th>\n",
       "      <td>79181</td>\n",
       "      <td>Any Other Cyber Crime</td>\n",
       "      <td>Other</td>\n",
       "      <td>mera debit card mere husband ke pass tha joki ...</td>\n",
       "      <td>0</td>\n",
       "      <td>550.0</td>\n",
       "    </tr>\n",
       "    <tr>\n",
       "      <th>1</th>\n",
       "      <td>44317</td>\n",
       "      <td>Sexually Obscene material</td>\n",
       "      <td>NaN</td>\n",
       "      <td>I clicked on an escort service website and sta...</td>\n",
       "      <td>0</td>\n",
       "      <td>512.0</td>\n",
       "    </tr>\n",
       "    <tr>\n",
       "      <th>2</th>\n",
       "      <td>6843</td>\n",
       "      <td>Online Financial Fraud</td>\n",
       "      <td>UPI Related Frauds</td>\n",
       "      <td>Respected sir or madam\\r\\nI am A DhanushPh no ...</td>\n",
       "      <td>1</td>\n",
       "      <td>996.0</td>\n",
       "    </tr>\n",
       "    <tr>\n",
       "      <th>3</th>\n",
       "      <td>34702</td>\n",
       "      <td>Online and Social Media Related Crime</td>\n",
       "      <td>FakeImpersonating Profile</td>\n",
       "      <td>Someone is using my photo and name and created...</td>\n",
       "      <td>0</td>\n",
       "      <td>893.0</td>\n",
       "    </tr>\n",
       "    <tr>\n",
       "      <th>4</th>\n",
       "      <td>95645</td>\n",
       "      <td>Sexually Explicit Act</td>\n",
       "      <td>NaN</td>\n",
       "      <td>Maine ek galat number pe payment kiya, jiska o...</td>\n",
       "      <td>0</td>\n",
       "      <td>238.0</td>\n",
       "    </tr>\n",
       "    <tr>\n",
       "      <th>...</th>\n",
       "      <td>...</td>\n",
       "      <td>...</td>\n",
       "      <td>...</td>\n",
       "      <td>...</td>\n",
       "      <td>...</td>\n",
       "      <td>...</td>\n",
       "    </tr>\n",
       "    <tr>\n",
       "      <th>96585</th>\n",
       "      <td>6265</td>\n",
       "      <td>Sexually Obscene material</td>\n",
       "      <td>NaN</td>\n",
       "      <td>My money is dedicated please help me please re...</td>\n",
       "      <td>0</td>\n",
       "      <td>212.0</td>\n",
       "    </tr>\n",
       "    <tr>\n",
       "      <th>96586</th>\n",
       "      <td>54886</td>\n",
       "      <td>Online Financial Fraud</td>\n",
       "      <td>EWallet Related Fraud</td>\n",
       "      <td>gaw dabli khurd ward no dishanumangarh pstalwa...</td>\n",
       "      <td>1</td>\n",
       "      <td>587.0</td>\n",
       "    </tr>\n",
       "    <tr>\n",
       "      <th>96587</th>\n",
       "      <td>76820</td>\n",
       "      <td>Online Financial Fraud</td>\n",
       "      <td>Internet Banking Related Fraud</td>\n",
       "      <td>A message came from Facebook id named about a ...</td>\n",
       "      <td>1</td>\n",
       "      <td>1010.0</td>\n",
       "    </tr>\n",
       "    <tr>\n",
       "      <th>96588</th>\n",
       "      <td>860</td>\n",
       "      <td>Online Financial Fraud</td>\n",
       "      <td>Fraud CallVishing</td>\n",
       "      <td>My issue is going on with samsung for repair o...</td>\n",
       "      <td>1</td>\n",
       "      <td>617.0</td>\n",
       "    </tr>\n",
       "    <tr>\n",
       "      <th>96589</th>\n",
       "      <td>15795</td>\n",
       "      <td>Online Financial Fraud</td>\n",
       "      <td>Fraud CallVishing</td>\n",
       "      <td>Sir daily unke other other no Se msg aate hai ...</td>\n",
       "      <td>1</td>\n",
       "      <td>237.0</td>\n",
       "    </tr>\n",
       "  </tbody>\n",
       "</table>\n",
       "<p>96590 rows × 6 columns</p>\n",
       "</div>"
      ],
      "text/plain": [
       "       Unnamed: 0                               category  \\\n",
       "0           79181                  Any Other Cyber Crime   \n",
       "1           44317              Sexually Obscene material   \n",
       "2            6843                 Online Financial Fraud   \n",
       "3           34702  Online and Social Media Related Crime   \n",
       "4           95645                  Sexually Explicit Act   \n",
       "...           ...                                    ...   \n",
       "96585        6265              Sexually Obscene material   \n",
       "96586       54886                 Online Financial Fraud   \n",
       "96587       76820                 Online Financial Fraud   \n",
       "96588         860                 Online Financial Fraud   \n",
       "96589       15795                 Online Financial Fraud   \n",
       "\n",
       "                         sub_category  \\\n",
       "0                               Other   \n",
       "1                                 NaN   \n",
       "2                  UPI Related Frauds   \n",
       "3           FakeImpersonating Profile   \n",
       "4                                 NaN   \n",
       "...                               ...   \n",
       "96585                             NaN   \n",
       "96586           EWallet Related Fraud   \n",
       "96587  Internet Banking Related Fraud   \n",
       "96588               Fraud CallVishing   \n",
       "96589               Fraud CallVishing   \n",
       "\n",
       "                                      crimeaditionalinfo  label  length  \n",
       "0      mera debit card mere husband ke pass tha joki ...      0   550.0  \n",
       "1      I clicked on an escort service website and sta...      0   512.0  \n",
       "2      Respected sir or madam\\r\\nI am A DhanushPh no ...      1   996.0  \n",
       "3      Someone is using my photo and name and created...      0   893.0  \n",
       "4      Maine ek galat number pe payment kiya, jiska o...      0   238.0  \n",
       "...                                                  ...    ...     ...  \n",
       "96585  My money is dedicated please help me please re...      0   212.0  \n",
       "96586  gaw dabli khurd ward no dishanumangarh pstalwa...      1   587.0  \n",
       "96587  A message came from Facebook id named about a ...      1  1010.0  \n",
       "96588  My issue is going on with samsung for repair o...      1   617.0  \n",
       "96589  Sir daily unke other other no Se msg aate hai ...      1   237.0  \n",
       "\n",
       "[96590 rows x 6 columns]"
      ]
     },
     "execution_count": 14,
     "metadata": {},
     "output_type": "execute_result"
    }
   ],
   "source": [
    "df_binary = df.copy()\n",
    "df_binary['label'] = df_binary['category'].apply(lambda x: 1 if x == \"Online Financial Fraud\" else 0)\n",
    "df_binary['length'] = df_binary['crimeaditionalinfo'].str.len()\n",
    "df_binary"
   ]
  },
  {
   "cell_type": "code",
   "execution_count": 15,
   "id": "ea110cc5",
   "metadata": {
    "execution": {
     "iopub.execute_input": "2024-11-03T00:49:42.720121Z",
     "iopub.status.busy": "2024-11-03T00:49:42.719486Z",
     "iopub.status.idle": "2024-11-03T00:49:42.723407Z",
     "shell.execute_reply": "2024-11-03T00:49:42.722533Z"
    },
    "papermill": {
     "duration": 0.016789,
     "end_time": "2024-11-03T00:49:42.725468",
     "exception": false,
     "start_time": "2024-11-03T00:49:42.708679",
     "status": "completed"
    },
    "tags": []
   },
   "outputs": [],
   "source": [
    "# import matplotlib.pyplot as plt\n",
    "# plt.hist(df_binary['length'])"
   ]
  },
  {
   "cell_type": "code",
   "execution_count": 16,
   "id": "0f776479",
   "metadata": {
    "execution": {
     "iopub.execute_input": "2024-11-03T00:49:42.744423Z",
     "iopub.status.busy": "2024-11-03T00:49:42.743521Z",
     "iopub.status.idle": "2024-11-03T00:49:42.788295Z",
     "shell.execute_reply": "2024-11-03T00:49:42.787243Z"
    },
    "papermill": {
     "duration": 0.056555,
     "end_time": "2024-11-03T00:49:42.790814",
     "exception": false,
     "start_time": "2024-11-03T00:49:42.734259",
     "status": "completed"
    },
    "tags": []
   },
   "outputs": [],
   "source": [
    "train_texts, val_texts, train_labels, val_labels = train_test_split(\n",
    "    df_binary['crimeaditionalinfo'], df_binary['label'], test_size=0.2, stratify=df_binary['label']\n",
    ")"
   ]
  },
  {
   "cell_type": "code",
   "execution_count": 17,
   "id": "9eb4ed19",
   "metadata": {
    "execution": {
     "iopub.execute_input": "2024-11-03T00:49:42.810387Z",
     "iopub.status.busy": "2024-11-03T00:49:42.809561Z",
     "iopub.status.idle": "2024-11-03T00:49:42.819378Z",
     "shell.execute_reply": "2024-11-03T00:49:42.818426Z"
    },
    "papermill": {
     "duration": 0.021588,
     "end_time": "2024-11-03T00:49:42.821322",
     "exception": false,
     "start_time": "2024-11-03T00:49:42.799734",
     "status": "completed"
    },
    "tags": []
   },
   "outputs": [
    {
     "data": {
      "text/plain": [
       "list"
      ]
     },
     "execution_count": 17,
     "metadata": {},
     "output_type": "execute_result"
    }
   ],
   "source": [
    "type(train_texts.tolist())"
   ]
  },
  {
   "cell_type": "code",
   "execution_count": 18,
   "id": "a23fc7a1",
   "metadata": {
    "execution": {
     "iopub.execute_input": "2024-11-03T00:49:42.841186Z",
     "iopub.status.busy": "2024-11-03T00:49:42.840351Z",
     "iopub.status.idle": "2024-11-03T00:50:02.110299Z",
     "shell.execute_reply": "2024-11-03T00:50:02.109324Z"
    },
    "papermill": {
     "duration": 19.282337,
     "end_time": "2024-11-03T00:50:02.112510",
     "exception": false,
     "start_time": "2024-11-03T00:49:42.830173",
     "status": "completed"
    },
    "tags": []
   },
   "outputs": [
    {
     "name": "stdout",
     "output_type": "stream",
     "text": [
      "done\n"
     ]
    }
   ],
   "source": [
    "train_texts = [str(text) for text in train_texts]\n",
    "val_texts = [str(text) for text in val_texts]\n",
    "\n",
    "train_encodings = tokenizer(train_texts, truncation=True, padding=True, max_length=512)\n",
    "val_encodings = tokenizer(val_texts, truncation=True, padding=True, max_length=512)\n",
    "print('done')"
   ]
  },
  {
   "cell_type": "code",
   "execution_count": 19,
   "id": "0e54f2fb",
   "metadata": {
    "execution": {
     "iopub.execute_input": "2024-11-03T00:50:02.131766Z",
     "iopub.status.busy": "2024-11-03T00:50:02.131414Z",
     "iopub.status.idle": "2024-11-03T00:50:02.141017Z",
     "shell.execute_reply": "2024-11-03T00:50:02.140129Z"
    },
    "papermill": {
     "duration": 0.021621,
     "end_time": "2024-11-03T00:50:02.142969",
     "exception": false,
     "start_time": "2024-11-03T00:50:02.121348",
     "status": "completed"
    },
    "tags": []
   },
   "outputs": [],
   "source": [
    " class FraudDataset(torch.utils.data.Dataset):\n",
    "    def __init__(self, encodings, labels):\n",
    "        self.encodings = encodings\n",
    "        self.labels = labels\n",
    "    def __getitem__(self, idx):\n",
    "        item = {key: torch.tensor(val[idx]) for key, val in self.encodings.items()}\n",
    "        item[\"labels\"] = torch.tensor(self.labels[idx])\n",
    "        return item\n",
    "    def __len__(self):\n",
    "        return len(self.labels)\n",
    "from torch.utils.data import DataLoader\n",
    "\n",
    "train_dataset = FraudDataset(train_encodings, train_labels.to_list())\n",
    "val_dataset = FraudDataset(val_encodings, val_labels.to_list())\n",
    "\n",
    "\n",
    "# # Create DataLoader for training dataset with shuffling enabled\n",
    "# train_loader = DataLoader(train_dataset, batch_size=32, shuffle=True)\n",
    "\n",
    "# # Create DataLoader for validation dataset without shuffling (commonly not shuffled)\n",
    "# val_loader = DataLoader(val_dataset, batch_size=32, shuffle=False)\n"
   ]
  },
  {
   "cell_type": "code",
   "execution_count": 20,
   "id": "3a7b418f",
   "metadata": {
    "execution": {
     "iopub.execute_input": "2024-11-03T00:50:02.161665Z",
     "iopub.status.busy": "2024-11-03T00:50:02.161327Z",
     "iopub.status.idle": "2024-11-03T03:32:23.286083Z",
     "shell.execute_reply": "2024-11-03T03:32:23.285099Z"
    },
    "papermill": {
     "duration": 9741.136252,
     "end_time": "2024-11-03T03:32:23.288056",
     "exception": false,
     "start_time": "2024-11-03T00:50:02.151804",
     "status": "completed"
    },
    "tags": []
   },
   "outputs": [
    {
     "data": {
      "application/vnd.jupyter.widget-view+json": {
       "model_id": "df27643eaec04d24b606d58c5e6ea541",
       "version_major": 2,
       "version_minor": 0
      },
      "text/plain": [
       "config.json:   0%|          | 0.00/750 [00:00<?, ?B/s]"
      ]
     },
     "metadata": {},
     "output_type": "display_data"
    },
    {
     "data": {
      "application/vnd.jupyter.widget-view+json": {
       "model_id": "0e1169dbe36947d4ab011cd4017b9ae5",
       "version_major": 2,
       "version_minor": 0
      },
      "text/plain": [
       "pytorch_model.bin:   0%|          | 0.00/1.11G [00:00<?, ?B/s]"
      ]
     },
     "metadata": {},
     "output_type": "display_data"
    },
    {
     "name": "stderr",
     "output_type": "stream",
     "text": [
      "Some weights of XLMRobertaForSequenceClassification were not initialized from the model checkpoint at l3cube-pune/hing-roberta and are newly initialized: ['classifier.dense.bias', 'classifier.dense.weight', 'classifier.out_proj.bias', 'classifier.out_proj.weight']\n",
      "You should probably TRAIN this model on a down-stream task to be able to use it for predictions and inference.\n",
      "/opt/conda/lib/python3.10/site-packages/transformers/training_args.py:1545: FutureWarning: `evaluation_strategy` is deprecated and will be removed in version 4.46 of 🤗 Transformers. Use `eval_strategy` instead\n",
      "  warnings.warn(\n"
     ]
    },
    {
     "data": {
      "text/html": [
       "\n",
       "    <div>\n",
       "      \n",
       "      <progress value='19318' max='19318' style='width:300px; height:20px; vertical-align: middle;'></progress>\n",
       "      [19318/19318 2:42:11, Epoch 2/2]\n",
       "    </div>\n",
       "    <table border=\"1\" class=\"dataframe\">\n",
       "  <thead>\n",
       " <tr style=\"text-align: left;\">\n",
       "      <th>Epoch</th>\n",
       "      <th>Training Loss</th>\n",
       "      <th>Validation Loss</th>\n",
       "    </tr>\n",
       "  </thead>\n",
       "  <tbody>\n",
       "    <tr>\n",
       "      <td>1</td>\n",
       "      <td>0.379500</td>\n",
       "      <td>0.379407</td>\n",
       "    </tr>\n",
       "    <tr>\n",
       "      <td>2</td>\n",
       "      <td>0.345300</td>\n",
       "      <td>0.334417</td>\n",
       "    </tr>\n",
       "  </tbody>\n",
       "</table><p>"
      ],
      "text/plain": [
       "<IPython.core.display.HTML object>"
      ]
     },
     "metadata": {},
     "output_type": "display_data"
    },
    {
     "data": {
      "text/plain": [
       "TrainOutput(global_step=19318, training_loss=0.38438827091275884, metrics={'train_runtime': 9732.6455, 'train_samples_per_second': 15.879, 'train_steps_per_second': 1.985, 'total_flos': 4.066223493955584e+16, 'train_loss': 0.38438827091275884, 'epoch': 2.0})"
      ]
     },
     "execution_count": 20,
     "metadata": {},
     "output_type": "execute_result"
    }
   ],
   "source": [
    "binary_model = AutoModelForSequenceClassification.from_pretrained('l3cube-pune/hing-roberta', num_labels=2)\n",
    "\n",
    "training_args = TrainingArguments(\n",
    "    output_dir=\"./results\",\n",
    "    evaluation_strategy=\"epoch\",\n",
    "    per_device_train_batch_size=8,\n",
    "    per_device_eval_batch_size=8,\n",
    "    num_train_epochs=2,\n",
    "    save_steps=15_000,\n",
    "    save_total_limit=2,\n",
    "    report_to = []\n",
    ")\n",
    "\n",
    "trainer = Trainer(\n",
    "    model=binary_model,\n",
    "    args=training_args,\n",
    "    train_dataset=train_dataset,\n",
    "    eval_dataset=val_dataset,\n",
    ")\n",
    "\n",
    "trainer.train()\n"
   ]
  },
  {
   "cell_type": "code",
   "execution_count": 21,
   "id": "757edaed",
   "metadata": {
    "execution": {
     "iopub.execute_input": "2024-11-03T03:32:23.308666Z",
     "iopub.status.busy": "2024-11-03T03:32:23.308357Z",
     "iopub.status.idle": "2024-11-03T03:32:23.313175Z",
     "shell.execute_reply": "2024-11-03T03:32:23.312327Z"
    },
    "papermill": {
     "duration": 0.017361,
     "end_time": "2024-11-03T03:32:23.315046",
     "exception": false,
     "start_time": "2024-11-03T03:32:23.297685",
     "status": "completed"
    },
    "tags": []
   },
   "outputs": [
    {
     "name": "stdout",
     "output_type": "stream",
     "text": [
      "1\n"
     ]
    }
   ],
   "source": [
    "print('1')"
   ]
  },
  {
   "cell_type": "code",
   "execution_count": 22,
   "id": "e4d54dc9",
   "metadata": {
    "execution": {
     "iopub.execute_input": "2024-11-03T03:32:23.334937Z",
     "iopub.status.busy": "2024-11-03T03:32:23.334553Z",
     "iopub.status.idle": "2024-11-03T03:32:25.904461Z",
     "shell.execute_reply": "2024-11-03T03:32:25.903651Z"
    },
    "papermill": {
     "duration": 2.582506,
     "end_time": "2024-11-03T03:32:25.906831",
     "exception": false,
     "start_time": "2024-11-03T03:32:23.324325",
     "status": "completed"
    },
    "tags": []
   },
   "outputs": [],
   "source": [
    "trainer.save_model(\"./hing-roberta\") "
   ]
  },
  {
   "cell_type": "code",
   "execution_count": 23,
   "id": "eef2737d",
   "metadata": {
    "execution": {
     "iopub.execute_input": "2024-11-03T03:32:25.927366Z",
     "iopub.status.busy": "2024-11-03T03:32:25.927068Z",
     "iopub.status.idle": "2024-11-03T03:32:25.932400Z",
     "shell.execute_reply": "2024-11-03T03:32:25.931155Z"
    },
    "papermill": {
     "duration": 0.017532,
     "end_time": "2024-11-03T03:32:25.934210",
     "exception": false,
     "start_time": "2024-11-03T03:32:25.916678",
     "status": "completed"
    },
    "tags": []
   },
   "outputs": [
    {
     "name": "stdout",
     "output_type": "stream",
     "text": [
      "1\n"
     ]
    }
   ],
   "source": [
    "print(1)"
   ]
  },
  {
   "cell_type": "code",
   "execution_count": null,
   "id": "0d22e847",
   "metadata": {
    "papermill": {
     "duration": 0.00946,
     "end_time": "2024-11-03T03:32:25.953097",
     "exception": false,
     "start_time": "2024-11-03T03:32:25.943637",
     "status": "completed"
    },
    "tags": []
   },
   "outputs": [],
   "source": []
  }
 ],
 "metadata": {
  "kaggle": {
   "accelerator": "gpu",
   "dataSources": [
    {
     "datasetId": 5993221,
     "sourceId": 9782420,
     "sourceType": "datasetVersion"
    },
    {
     "datasetId": 5999565,
     "sourceId": 9791077,
     "sourceType": "datasetVersion"
    }
   ],
   "dockerImageVersionId": 30786,
   "isGpuEnabled": true,
   "isInternetEnabled": true,
   "language": "python",
   "sourceType": "notebook"
  },
  "kernelspec": {
   "display_name": "Python 3",
   "language": "python",
   "name": "python3"
  },
  "language_info": {
   "codemirror_mode": {
    "name": "ipython",
    "version": 3
   },
   "file_extension": ".py",
   "mimetype": "text/x-python",
   "name": "python",
   "nbconvert_exporter": "python",
   "pygments_lexer": "ipython3",
   "version": "3.10.14"
  },
  "papermill": {
   "default_parameters": {},
   "duration": 9796.637107,
   "end_time": "2024-11-03T03:32:29.712984",
   "environment_variables": {},
   "exception": null,
   "input_path": "__notebook__.ipynb",
   "output_path": "__notebook__.ipynb",
   "parameters": {},
   "start_time": "2024-11-03T00:49:13.075877",
   "version": "2.6.0"
  },
  "widgets": {
   "application/vnd.jupyter.widget-state+json": {
    "state": {
     "044ec50502734adc9b5400a28c98a984": {
      "model_module": "@jupyter-widgets/controls",
      "model_module_version": "1.5.0",
      "model_name": "HTMLModel",
      "state": {
       "_dom_classes": [],
       "_model_module": "@jupyter-widgets/controls",
       "_model_module_version": "1.5.0",
       "_model_name": "HTMLModel",
       "_view_count": null,
       "_view_module": "@jupyter-widgets/controls",
       "_view_module_version": "1.5.0",
       "_view_name": "HTMLView",
       "description": "",
       "description_tooltip": null,
       "layout": "IPY_MODEL_4d413ddc9d1b41a9b5c924505fc229f2",
       "placeholder": "​",
       "style": "IPY_MODEL_b16a75b86d2a4917a0d3b3a4132efb52",
       "value": "pytorch_model.bin: 100%"
      }
     },
     "057669281e854709b46c065cb2c59da1": {
      "model_module": "@jupyter-widgets/base",
      "model_module_version": "1.2.0",
      "model_name": "LayoutModel",
      "state": {
       "_model_module": "@jupyter-widgets/base",
       "_model_module_version": "1.2.0",
       "_model_name": "LayoutModel",
       "_view_count": null,
       "_view_module": "@jupyter-widgets/base",
       "_view_module_version": "1.2.0",
       "_view_name": "LayoutView",
       "align_content": null,
       "align_items": null,
       "align_self": null,
       "border": null,
       "bottom": null,
       "display": null,
       "flex": null,
       "flex_flow": null,
       "grid_area": null,
       "grid_auto_columns": null,
       "grid_auto_flow": null,
       "grid_auto_rows": null,
       "grid_column": null,
       "grid_gap": null,
       "grid_row": null,
       "grid_template_areas": null,
       "grid_template_columns": null,
       "grid_template_rows": null,
       "height": null,
       "justify_content": null,
       "justify_items": null,
       "left": null,
       "margin": null,
       "max_height": null,
       "max_width": null,
       "min_height": null,
       "min_width": null,
       "object_fit": null,
       "object_position": null,
       "order": null,
       "overflow": null,
       "overflow_x": null,
       "overflow_y": null,
       "padding": null,
       "right": null,
       "top": null,
       "visibility": null,
       "width": null
      }
     },
     "05f4845794664f57a702ef7748ee0fc3": {
      "model_module": "@jupyter-widgets/controls",
      "model_module_version": "1.5.0",
      "model_name": "HBoxModel",
      "state": {
       "_dom_classes": [],
       "_model_module": "@jupyter-widgets/controls",
       "_model_module_version": "1.5.0",
       "_model_name": "HBoxModel",
       "_view_count": null,
       "_view_module": "@jupyter-widgets/controls",
       "_view_module_version": "1.5.0",
       "_view_name": "HBoxView",
       "box_style": "",
       "children": [
        "IPY_MODEL_ff25a63c341f44a0af027eabd260a228",
        "IPY_MODEL_aa0efc6ad8bf4c0dbd191079aa10a26c",
        "IPY_MODEL_b4a0dd0bb5aa4c01bab627305d574800"
       ],
       "layout": "IPY_MODEL_ed72c0568ab44b078806e6c4000fdc28"
      }
     },
     "0ca8a018c291460d97c1cd1b82ef9c59": {
      "model_module": "@jupyter-widgets/controls",
      "model_module_version": "1.5.0",
      "model_name": "ProgressStyleModel",
      "state": {
       "_model_module": "@jupyter-widgets/controls",
       "_model_module_version": "1.5.0",
       "_model_name": "ProgressStyleModel",
       "_view_count": null,
       "_view_module": "@jupyter-widgets/base",
       "_view_module_version": "1.2.0",
       "_view_name": "StyleView",
       "bar_color": null,
       "description_width": ""
      }
     },
     "0e1169dbe36947d4ab011cd4017b9ae5": {
      "model_module": "@jupyter-widgets/controls",
      "model_module_version": "1.5.0",
      "model_name": "HBoxModel",
      "state": {
       "_dom_classes": [],
       "_model_module": "@jupyter-widgets/controls",
       "_model_module_version": "1.5.0",
       "_model_name": "HBoxModel",
       "_view_count": null,
       "_view_module": "@jupyter-widgets/controls",
       "_view_module_version": "1.5.0",
       "_view_name": "HBoxView",
       "box_style": "",
       "children": [
        "IPY_MODEL_044ec50502734adc9b5400a28c98a984",
        "IPY_MODEL_8f182fcdf7c44f5287bcbaa1ec0f6b17",
        "IPY_MODEL_24ad0bdfc734429c8bcaa1d4dd5615a6"
       ],
       "layout": "IPY_MODEL_8ae58cd1c7354a85a77e23c3fe592920"
      }
     },
     "173a286dc0424381944026598eed388b": {
      "model_module": "@jupyter-widgets/base",
      "model_module_version": "1.2.0",
      "model_name": "LayoutModel",
      "state": {
       "_model_module": "@jupyter-widgets/base",
       "_model_module_version": "1.2.0",
       "_model_name": "LayoutModel",
       "_view_count": null,
       "_view_module": "@jupyter-widgets/base",
       "_view_module_version": "1.2.0",
       "_view_name": "LayoutView",
       "align_content": null,
       "align_items": null,
       "align_self": null,
       "border": null,
       "bottom": null,
       "display": null,
       "flex": null,
       "flex_flow": null,
       "grid_area": null,
       "grid_auto_columns": null,
       "grid_auto_flow": null,
       "grid_auto_rows": null,
       "grid_column": null,
       "grid_gap": null,
       "grid_row": null,
       "grid_template_areas": null,
       "grid_template_columns": null,
       "grid_template_rows": null,
       "height": null,
       "justify_content": null,
       "justify_items": null,
       "left": null,
       "margin": null,
       "max_height": null,
       "max_width": null,
       "min_height": null,
       "min_width": null,
       "object_fit": null,
       "object_position": null,
       "order": null,
       "overflow": null,
       "overflow_x": null,
       "overflow_y": null,
       "padding": null,
       "right": null,
       "top": null,
       "visibility": null,
       "width": null
      }
     },
     "1acf110b93cd4a39a53bf28c3ec45476": {
      "model_module": "@jupyter-widgets/base",
      "model_module_version": "1.2.0",
      "model_name": "LayoutModel",
      "state": {
       "_model_module": "@jupyter-widgets/base",
       "_model_module_version": "1.2.0",
       "_model_name": "LayoutModel",
       "_view_count": null,
       "_view_module": "@jupyter-widgets/base",
       "_view_module_version": "1.2.0",
       "_view_name": "LayoutView",
       "align_content": null,
       "align_items": null,
       "align_self": null,
       "border": null,
       "bottom": null,
       "display": null,
       "flex": null,
       "flex_flow": null,
       "grid_area": null,
       "grid_auto_columns": null,
       "grid_auto_flow": null,
       "grid_auto_rows": null,
       "grid_column": null,
       "grid_gap": null,
       "grid_row": null,
       "grid_template_areas": null,
       "grid_template_columns": null,
       "grid_template_rows": null,
       "height": null,
       "justify_content": null,
       "justify_items": null,
       "left": null,
       "margin": null,
       "max_height": null,
       "max_width": null,
       "min_height": null,
       "min_width": null,
       "object_fit": null,
       "object_position": null,
       "order": null,
       "overflow": null,
       "overflow_x": null,
       "overflow_y": null,
       "padding": null,
       "right": null,
       "top": null,
       "visibility": null,
       "width": null
      }
     },
     "2097b4ea77e843f49e4c75a9ab951036": {
      "model_module": "@jupyter-widgets/controls",
      "model_module_version": "1.5.0",
      "model_name": "ProgressStyleModel",
      "state": {
       "_model_module": "@jupyter-widgets/controls",
       "_model_module_version": "1.5.0",
       "_model_name": "ProgressStyleModel",
       "_view_count": null,
       "_view_module": "@jupyter-widgets/base",
       "_view_module_version": "1.2.0",
       "_view_name": "StyleView",
       "bar_color": null,
       "description_width": ""
      }
     },
     "24ad0bdfc734429c8bcaa1d4dd5615a6": {
      "model_module": "@jupyter-widgets/controls",
      "model_module_version": "1.5.0",
      "model_name": "HTMLModel",
      "state": {
       "_dom_classes": [],
       "_model_module": "@jupyter-widgets/controls",
       "_model_module_version": "1.5.0",
       "_model_name": "HTMLModel",
       "_view_count": null,
       "_view_module": "@jupyter-widgets/controls",
       "_view_module_version": "1.5.0",
       "_view_name": "HTMLView",
       "description": "",
       "description_tooltip": null,
       "layout": "IPY_MODEL_57b450aad35f487ab8c9ca33b25d840e",
       "placeholder": "​",
       "style": "IPY_MODEL_a0b7933924454c8d8573ca4d274fb1b7",
       "value": " 1.11G/1.11G [00:04&lt;00:00, 248MB/s]"
      }
     },
     "2a983672acb24ea6a1e48459713d5f28": {
      "model_module": "@jupyter-widgets/base",
      "model_module_version": "1.2.0",
      "model_name": "LayoutModel",
      "state": {
       "_model_module": "@jupyter-widgets/base",
       "_model_module_version": "1.2.0",
       "_model_name": "LayoutModel",
       "_view_count": null,
       "_view_module": "@jupyter-widgets/base",
       "_view_module_version": "1.2.0",
       "_view_name": "LayoutView",
       "align_content": null,
       "align_items": null,
       "align_self": null,
       "border": null,
       "bottom": null,
       "display": null,
       "flex": null,
       "flex_flow": null,
       "grid_area": null,
       "grid_auto_columns": null,
       "grid_auto_flow": null,
       "grid_auto_rows": null,
       "grid_column": null,
       "grid_gap": null,
       "grid_row": null,
       "grid_template_areas": null,
       "grid_template_columns": null,
       "grid_template_rows": null,
       "height": null,
       "justify_content": null,
       "justify_items": null,
       "left": null,
       "margin": null,
       "max_height": null,
       "max_width": null,
       "min_height": null,
       "min_width": null,
       "object_fit": null,
       "object_position": null,
       "order": null,
       "overflow": null,
       "overflow_x": null,
       "overflow_y": null,
       "padding": null,
       "right": null,
       "top": null,
       "visibility": null,
       "width": null
      }
     },
     "3068013144c94e73bd12276e86f8ecf7": {
      "model_module": "@jupyter-widgets/controls",
      "model_module_version": "1.5.0",
      "model_name": "DescriptionStyleModel",
      "state": {
       "_model_module": "@jupyter-widgets/controls",
       "_model_module_version": "1.5.0",
       "_model_name": "DescriptionStyleModel",
       "_view_count": null,
       "_view_module": "@jupyter-widgets/base",
       "_view_module_version": "1.2.0",
       "_view_name": "StyleView",
       "description_width": ""
      }
     },
     "325820b6f12b41a6bff8e6c163c064a3": {
      "model_module": "@jupyter-widgets/controls",
      "model_module_version": "1.5.0",
      "model_name": "DescriptionStyleModel",
      "state": {
       "_model_module": "@jupyter-widgets/controls",
       "_model_module_version": "1.5.0",
       "_model_name": "DescriptionStyleModel",
       "_view_count": null,
       "_view_module": "@jupyter-widgets/base",
       "_view_module_version": "1.2.0",
       "_view_name": "StyleView",
       "description_width": ""
      }
     },
     "33310d344db04f28993f4f954e9be8d9": {
      "model_module": "@jupyter-widgets/base",
      "model_module_version": "1.2.0",
      "model_name": "LayoutModel",
      "state": {
       "_model_module": "@jupyter-widgets/base",
       "_model_module_version": "1.2.0",
       "_model_name": "LayoutModel",
       "_view_count": null,
       "_view_module": "@jupyter-widgets/base",
       "_view_module_version": "1.2.0",
       "_view_name": "LayoutView",
       "align_content": null,
       "align_items": null,
       "align_self": null,
       "border": null,
       "bottom": null,
       "display": null,
       "flex": null,
       "flex_flow": null,
       "grid_area": null,
       "grid_auto_columns": null,
       "grid_auto_flow": null,
       "grid_auto_rows": null,
       "grid_column": null,
       "grid_gap": null,
       "grid_row": null,
       "grid_template_areas": null,
       "grid_template_columns": null,
       "grid_template_rows": null,
       "height": null,
       "justify_content": null,
       "justify_items": null,
       "left": null,
       "margin": null,
       "max_height": null,
       "max_width": null,
       "min_height": null,
       "min_width": null,
       "object_fit": null,
       "object_position": null,
       "order": null,
       "overflow": null,
       "overflow_x": null,
       "overflow_y": null,
       "padding": null,
       "right": null,
       "top": null,
       "visibility": null,
       "width": null
      }
     },
     "3883304ec3d14d02a37584eb3cb3a0ec": {
      "model_module": "@jupyter-widgets/controls",
      "model_module_version": "1.5.0",
      "model_name": "HTMLModel",
      "state": {
       "_dom_classes": [],
       "_model_module": "@jupyter-widgets/controls",
       "_model_module_version": "1.5.0",
       "_model_name": "HTMLModel",
       "_view_count": null,
       "_view_module": "@jupyter-widgets/controls",
       "_view_module_version": "1.5.0",
       "_view_name": "HTMLView",
       "description": "",
       "description_tooltip": null,
       "layout": "IPY_MODEL_d9d4c477bb4e49989e7c9e90c7a0b7a5",
       "placeholder": "​",
       "style": "IPY_MODEL_e4640fc5222948078df2c4600b07c210",
       "value": "config.json: 100%"
      }
     },
     "3bdf69c25e354cf4b3529df66d2f6dbe": {
      "model_module": "@jupyter-widgets/controls",
      "model_module_version": "1.5.0",
      "model_name": "FloatProgressModel",
      "state": {
       "_dom_classes": [],
       "_model_module": "@jupyter-widgets/controls",
       "_model_module_version": "1.5.0",
       "_model_name": "FloatProgressModel",
       "_view_count": null,
       "_view_module": "@jupyter-widgets/controls",
       "_view_module_version": "1.5.0",
       "_view_name": "ProgressView",
       "bar_style": "success",
       "description": "",
       "description_tooltip": null,
       "layout": "IPY_MODEL_8d974f1e43cc48daa7abcaacdaddf3c3",
       "max": 17082660.0,
       "min": 0.0,
       "orientation": "horizontal",
       "style": "IPY_MODEL_0ca8a018c291460d97c1cd1b82ef9c59",
       "value": 17082660.0
      }
     },
     "40ffd4036b604d988650f5d74518b2ef": {
      "model_module": "@jupyter-widgets/controls",
      "model_module_version": "1.5.0",
      "model_name": "HTMLModel",
      "state": {
       "_dom_classes": [],
       "_model_module": "@jupyter-widgets/controls",
       "_model_module_version": "1.5.0",
       "_model_name": "HTMLModel",
       "_view_count": null,
       "_view_module": "@jupyter-widgets/controls",
       "_view_module_version": "1.5.0",
       "_view_name": "HTMLView",
       "description": "",
       "description_tooltip": null,
       "layout": "IPY_MODEL_2a983672acb24ea6a1e48459713d5f28",
       "placeholder": "​",
       "style": "IPY_MODEL_69d2d45815a7491eba709dfae66e1c9c",
       "value": "special_tokens_map.json: 100%"
      }
     },
     "4d239ec669dd40c08107b0c1fb3cb910": {
      "model_module": "@jupyter-widgets/base",
      "model_module_version": "1.2.0",
      "model_name": "LayoutModel",
      "state": {
       "_model_module": "@jupyter-widgets/base",
       "_model_module_version": "1.2.0",
       "_model_name": "LayoutModel",
       "_view_count": null,
       "_view_module": "@jupyter-widgets/base",
       "_view_module_version": "1.2.0",
       "_view_name": "LayoutView",
       "align_content": null,
       "align_items": null,
       "align_self": null,
       "border": null,
       "bottom": null,
       "display": null,
       "flex": null,
       "flex_flow": null,
       "grid_area": null,
       "grid_auto_columns": null,
       "grid_auto_flow": null,
       "grid_auto_rows": null,
       "grid_column": null,
       "grid_gap": null,
       "grid_row": null,
       "grid_template_areas": null,
       "grid_template_columns": null,
       "grid_template_rows": null,
       "height": null,
       "justify_content": null,
       "justify_items": null,
       "left": null,
       "margin": null,
       "max_height": null,
       "max_width": null,
       "min_height": null,
       "min_width": null,
       "object_fit": null,
       "object_position": null,
       "order": null,
       "overflow": null,
       "overflow_x": null,
       "overflow_y": null,
       "padding": null,
       "right": null,
       "top": null,
       "visibility": null,
       "width": null
      }
     },
     "4d413ddc9d1b41a9b5c924505fc229f2": {
      "model_module": "@jupyter-widgets/base",
      "model_module_version": "1.2.0",
      "model_name": "LayoutModel",
      "state": {
       "_model_module": "@jupyter-widgets/base",
       "_model_module_version": "1.2.0",
       "_model_name": "LayoutModel",
       "_view_count": null,
       "_view_module": "@jupyter-widgets/base",
       "_view_module_version": "1.2.0",
       "_view_name": "LayoutView",
       "align_content": null,
       "align_items": null,
       "align_self": null,
       "border": null,
       "bottom": null,
       "display": null,
       "flex": null,
       "flex_flow": null,
       "grid_area": null,
       "grid_auto_columns": null,
       "grid_auto_flow": null,
       "grid_auto_rows": null,
       "grid_column": null,
       "grid_gap": null,
       "grid_row": null,
       "grid_template_areas": null,
       "grid_template_columns": null,
       "grid_template_rows": null,
       "height": null,
       "justify_content": null,
       "justify_items": null,
       "left": null,
       "margin": null,
       "max_height": null,
       "max_width": null,
       "min_height": null,
       "min_width": null,
       "object_fit": null,
       "object_position": null,
       "order": null,
       "overflow": null,
       "overflow_x": null,
       "overflow_y": null,
       "padding": null,
       "right": null,
       "top": null,
       "visibility": null,
       "width": null
      }
     },
     "51ced8c4d34b40ef8c5972e1d55c68bd": {
      "model_module": "@jupyter-widgets/base",
      "model_module_version": "1.2.0",
      "model_name": "LayoutModel",
      "state": {
       "_model_module": "@jupyter-widgets/base",
       "_model_module_version": "1.2.0",
       "_model_name": "LayoutModel",
       "_view_count": null,
       "_view_module": "@jupyter-widgets/base",
       "_view_module_version": "1.2.0",
       "_view_name": "LayoutView",
       "align_content": null,
       "align_items": null,
       "align_self": null,
       "border": null,
       "bottom": null,
       "display": null,
       "flex": null,
       "flex_flow": null,
       "grid_area": null,
       "grid_auto_columns": null,
       "grid_auto_flow": null,
       "grid_auto_rows": null,
       "grid_column": null,
       "grid_gap": null,
       "grid_row": null,
       "grid_template_areas": null,
       "grid_template_columns": null,
       "grid_template_rows": null,
       "height": null,
       "justify_content": null,
       "justify_items": null,
       "left": null,
       "margin": null,
       "max_height": null,
       "max_width": null,
       "min_height": null,
       "min_width": null,
       "object_fit": null,
       "object_position": null,
       "order": null,
       "overflow": null,
       "overflow_x": null,
       "overflow_y": null,
       "padding": null,
       "right": null,
       "top": null,
       "visibility": null,
       "width": null
      }
     },
     "52f3e31897814db88480efb762d05e4b": {
      "model_module": "@jupyter-widgets/controls",
      "model_module_version": "1.5.0",
      "model_name": "ProgressStyleModel",
      "state": {
       "_model_module": "@jupyter-widgets/controls",
       "_model_module_version": "1.5.0",
       "_model_name": "ProgressStyleModel",
       "_view_count": null,
       "_view_module": "@jupyter-widgets/base",
       "_view_module_version": "1.2.0",
       "_view_name": "StyleView",
       "bar_color": null,
       "description_width": ""
      }
     },
     "55d34b869bc544fd9de9a4fead46a849": {
      "model_module": "@jupyter-widgets/controls",
      "model_module_version": "1.5.0",
      "model_name": "ProgressStyleModel",
      "state": {
       "_model_module": "@jupyter-widgets/controls",
       "_model_module_version": "1.5.0",
       "_model_name": "ProgressStyleModel",
       "_view_count": null,
       "_view_module": "@jupyter-widgets/base",
       "_view_module_version": "1.2.0",
       "_view_name": "StyleView",
       "bar_color": null,
       "description_width": ""
      }
     },
     "57b450aad35f487ab8c9ca33b25d840e": {
      "model_module": "@jupyter-widgets/base",
      "model_module_version": "1.2.0",
      "model_name": "LayoutModel",
      "state": {
       "_model_module": "@jupyter-widgets/base",
       "_model_module_version": "1.2.0",
       "_model_name": "LayoutModel",
       "_view_count": null,
       "_view_module": "@jupyter-widgets/base",
       "_view_module_version": "1.2.0",
       "_view_name": "LayoutView",
       "align_content": null,
       "align_items": null,
       "align_self": null,
       "border": null,
       "bottom": null,
       "display": null,
       "flex": null,
       "flex_flow": null,
       "grid_area": null,
       "grid_auto_columns": null,
       "grid_auto_flow": null,
       "grid_auto_rows": null,
       "grid_column": null,
       "grid_gap": null,
       "grid_row": null,
       "grid_template_areas": null,
       "grid_template_columns": null,
       "grid_template_rows": null,
       "height": null,
       "justify_content": null,
       "justify_items": null,
       "left": null,
       "margin": null,
       "max_height": null,
       "max_width": null,
       "min_height": null,
       "min_width": null,
       "object_fit": null,
       "object_position": null,
       "order": null,
       "overflow": null,
       "overflow_x": null,
       "overflow_y": null,
       "padding": null,
       "right": null,
       "top": null,
       "visibility": null,
       "width": null
      }
     },
     "68e85d8593294542b06aec5ef302b465": {
      "model_module": "@jupyter-widgets/controls",
      "model_module_version": "1.5.0",
      "model_name": "HTMLModel",
      "state": {
       "_dom_classes": [],
       "_model_module": "@jupyter-widgets/controls",
       "_model_module_version": "1.5.0",
       "_model_name": "HTMLModel",
       "_view_count": null,
       "_view_module": "@jupyter-widgets/controls",
       "_view_module_version": "1.5.0",
       "_view_name": "HTMLView",
       "description": "",
       "description_tooltip": null,
       "layout": "IPY_MODEL_fe3d3cf4fb0d43f78f63d5269315c3ab",
       "placeholder": "​",
       "style": "IPY_MODEL_3068013144c94e73bd12276e86f8ecf7",
       "value": " 239/239 [00:00&lt;00:00, 19.0kB/s]"
      }
     },
     "69d2d45815a7491eba709dfae66e1c9c": {
      "model_module": "@jupyter-widgets/controls",
      "model_module_version": "1.5.0",
      "model_name": "DescriptionStyleModel",
      "state": {
       "_model_module": "@jupyter-widgets/controls",
       "_model_module_version": "1.5.0",
       "_model_name": "DescriptionStyleModel",
       "_view_count": null,
       "_view_module": "@jupyter-widgets/base",
       "_view_module_version": "1.2.0",
       "_view_name": "StyleView",
       "description_width": ""
      }
     },
     "6daf4eb5253e4d2ab969812c24726318": {
      "model_module": "@jupyter-widgets/controls",
      "model_module_version": "1.5.0",
      "model_name": "HBoxModel",
      "state": {
       "_dom_classes": [],
       "_model_module": "@jupyter-widgets/controls",
       "_model_module_version": "1.5.0",
       "_model_name": "HBoxModel",
       "_view_count": null,
       "_view_module": "@jupyter-widgets/controls",
       "_view_module_version": "1.5.0",
       "_view_name": "HBoxView",
       "box_style": "",
       "children": [
        "IPY_MODEL_a2327acde1154b11b92726890e2e5ac3",
        "IPY_MODEL_3bdf69c25e354cf4b3529df66d2f6dbe",
        "IPY_MODEL_a9faa611a0ff4d5ea5b110c635eaf0dc"
       ],
       "layout": "IPY_MODEL_173a286dc0424381944026598eed388b"
      }
     },
     "845d43988b384499a3852aa5b52fd6ee": {
      "model_module": "@jupyter-widgets/base",
      "model_module_version": "1.2.0",
      "model_name": "LayoutModel",
      "state": {
       "_model_module": "@jupyter-widgets/base",
       "_model_module_version": "1.2.0",
       "_model_name": "LayoutModel",
       "_view_count": null,
       "_view_module": "@jupyter-widgets/base",
       "_view_module_version": "1.2.0",
       "_view_name": "LayoutView",
       "align_content": null,
       "align_items": null,
       "align_self": null,
       "border": null,
       "bottom": null,
       "display": null,
       "flex": null,
       "flex_flow": null,
       "grid_area": null,
       "grid_auto_columns": null,
       "grid_auto_flow": null,
       "grid_auto_rows": null,
       "grid_column": null,
       "grid_gap": null,
       "grid_row": null,
       "grid_template_areas": null,
       "grid_template_columns": null,
       "grid_template_rows": null,
       "height": null,
       "justify_content": null,
       "justify_items": null,
       "left": null,
       "margin": null,
       "max_height": null,
       "max_width": null,
       "min_height": null,
       "min_width": null,
       "object_fit": null,
       "object_position": null,
       "order": null,
       "overflow": null,
       "overflow_x": null,
       "overflow_y": null,
       "padding": null,
       "right": null,
       "top": null,
       "visibility": null,
       "width": null
      }
     },
     "8ac9d0831ec44a638e12da9b520dfd1a": {
      "model_module": "@jupyter-widgets/controls",
      "model_module_version": "1.5.0",
      "model_name": "DescriptionStyleModel",
      "state": {
       "_model_module": "@jupyter-widgets/controls",
       "_model_module_version": "1.5.0",
       "_model_name": "DescriptionStyleModel",
       "_view_count": null,
       "_view_module": "@jupyter-widgets/base",
       "_view_module_version": "1.2.0",
       "_view_name": "StyleView",
       "description_width": ""
      }
     },
     "8ae58cd1c7354a85a77e23c3fe592920": {
      "model_module": "@jupyter-widgets/base",
      "model_module_version": "1.2.0",
      "model_name": "LayoutModel",
      "state": {
       "_model_module": "@jupyter-widgets/base",
       "_model_module_version": "1.2.0",
       "_model_name": "LayoutModel",
       "_view_count": null,
       "_view_module": "@jupyter-widgets/base",
       "_view_module_version": "1.2.0",
       "_view_name": "LayoutView",
       "align_content": null,
       "align_items": null,
       "align_self": null,
       "border": null,
       "bottom": null,
       "display": null,
       "flex": null,
       "flex_flow": null,
       "grid_area": null,
       "grid_auto_columns": null,
       "grid_auto_flow": null,
       "grid_auto_rows": null,
       "grid_column": null,
       "grid_gap": null,
       "grid_row": null,
       "grid_template_areas": null,
       "grid_template_columns": null,
       "grid_template_rows": null,
       "height": null,
       "justify_content": null,
       "justify_items": null,
       "left": null,
       "margin": null,
       "max_height": null,
       "max_width": null,
       "min_height": null,
       "min_width": null,
       "object_fit": null,
       "object_position": null,
       "order": null,
       "overflow": null,
       "overflow_x": null,
       "overflow_y": null,
       "padding": null,
       "right": null,
       "top": null,
       "visibility": null,
       "width": null
      }
     },
     "8d974f1e43cc48daa7abcaacdaddf3c3": {
      "model_module": "@jupyter-widgets/base",
      "model_module_version": "1.2.0",
      "model_name": "LayoutModel",
      "state": {
       "_model_module": "@jupyter-widgets/base",
       "_model_module_version": "1.2.0",
       "_model_name": "LayoutModel",
       "_view_count": null,
       "_view_module": "@jupyter-widgets/base",
       "_view_module_version": "1.2.0",
       "_view_name": "LayoutView",
       "align_content": null,
       "align_items": null,
       "align_self": null,
       "border": null,
       "bottom": null,
       "display": null,
       "flex": null,
       "flex_flow": null,
       "grid_area": null,
       "grid_auto_columns": null,
       "grid_auto_flow": null,
       "grid_auto_rows": null,
       "grid_column": null,
       "grid_gap": null,
       "grid_row": null,
       "grid_template_areas": null,
       "grid_template_columns": null,
       "grid_template_rows": null,
       "height": null,
       "justify_content": null,
       "justify_items": null,
       "left": null,
       "margin": null,
       "max_height": null,
       "max_width": null,
       "min_height": null,
       "min_width": null,
       "object_fit": null,
       "object_position": null,
       "order": null,
       "overflow": null,
       "overflow_x": null,
       "overflow_y": null,
       "padding": null,
       "right": null,
       "top": null,
       "visibility": null,
       "width": null
      }
     },
     "8f182fcdf7c44f5287bcbaa1ec0f6b17": {
      "model_module": "@jupyter-widgets/controls",
      "model_module_version": "1.5.0",
      "model_name": "FloatProgressModel",
      "state": {
       "_dom_classes": [],
       "_model_module": "@jupyter-widgets/controls",
       "_model_module_version": "1.5.0",
       "_model_name": "FloatProgressModel",
       "_view_count": null,
       "_view_module": "@jupyter-widgets/controls",
       "_view_module_version": "1.5.0",
       "_view_name": "ProgressView",
       "bar_style": "success",
       "description": "",
       "description_tooltip": null,
       "layout": "IPY_MODEL_845d43988b384499a3852aa5b52fd6ee",
       "max": 1113264555.0,
       "min": 0.0,
       "orientation": "horizontal",
       "style": "IPY_MODEL_55d34b869bc544fd9de9a4fead46a849",
       "value": 1113264555.0
      }
     },
     "8f50808e8c63471e8a1050ae45db6a25": {
      "model_module": "@jupyter-widgets/controls",
      "model_module_version": "1.5.0",
      "model_name": "DescriptionStyleModel",
      "state": {
       "_model_module": "@jupyter-widgets/controls",
       "_model_module_version": "1.5.0",
       "_model_name": "DescriptionStyleModel",
       "_view_count": null,
       "_view_module": "@jupyter-widgets/base",
       "_view_module_version": "1.2.0",
       "_view_name": "StyleView",
       "description_width": ""
      }
     },
     "9b03be009d3b4983a1aba74db1bf0751": {
      "model_module": "@jupyter-widgets/controls",
      "model_module_version": "1.5.0",
      "model_name": "HTMLModel",
      "state": {
       "_dom_classes": [],
       "_model_module": "@jupyter-widgets/controls",
       "_model_module_version": "1.5.0",
       "_model_name": "HTMLModel",
       "_view_count": null,
       "_view_module": "@jupyter-widgets/controls",
       "_view_module_version": "1.5.0",
       "_view_name": "HTMLView",
       "description": "",
       "description_tooltip": null,
       "layout": "IPY_MODEL_51ced8c4d34b40ef8c5972e1d55c68bd",
       "placeholder": "​",
       "style": "IPY_MODEL_f56a821812cc4049be28165193a8f34e",
       "value": " 750/750 [00:00&lt;00:00, 62.0kB/s]"
      }
     },
     "9ed51dbc3fc647b0ba831c034cef82f3": {
      "model_module": "@jupyter-widgets/base",
      "model_module_version": "1.2.0",
      "model_name": "LayoutModel",
      "state": {
       "_model_module": "@jupyter-widgets/base",
       "_model_module_version": "1.2.0",
       "_model_name": "LayoutModel",
       "_view_count": null,
       "_view_module": "@jupyter-widgets/base",
       "_view_module_version": "1.2.0",
       "_view_name": "LayoutView",
       "align_content": null,
       "align_items": null,
       "align_self": null,
       "border": null,
       "bottom": null,
       "display": null,
       "flex": null,
       "flex_flow": null,
       "grid_area": null,
       "grid_auto_columns": null,
       "grid_auto_flow": null,
       "grid_auto_rows": null,
       "grid_column": null,
       "grid_gap": null,
       "grid_row": null,
       "grid_template_areas": null,
       "grid_template_columns": null,
       "grid_template_rows": null,
       "height": null,
       "justify_content": null,
       "justify_items": null,
       "left": null,
       "margin": null,
       "max_height": null,
       "max_width": null,
       "min_height": null,
       "min_width": null,
       "object_fit": null,
       "object_position": null,
       "order": null,
       "overflow": null,
       "overflow_x": null,
       "overflow_y": null,
       "padding": null,
       "right": null,
       "top": null,
       "visibility": null,
       "width": null
      }
     },
     "a0b7933924454c8d8573ca4d274fb1b7": {
      "model_module": "@jupyter-widgets/controls",
      "model_module_version": "1.5.0",
      "model_name": "DescriptionStyleModel",
      "state": {
       "_model_module": "@jupyter-widgets/controls",
       "_model_module_version": "1.5.0",
       "_model_name": "DescriptionStyleModel",
       "_view_count": null,
       "_view_module": "@jupyter-widgets/base",
       "_view_module_version": "1.2.0",
       "_view_name": "StyleView",
       "description_width": ""
      }
     },
     "a18fd5bd6a894d3cb6b9fd0dcbd092d0": {
      "model_module": "@jupyter-widgets/base",
      "model_module_version": "1.2.0",
      "model_name": "LayoutModel",
      "state": {
       "_model_module": "@jupyter-widgets/base",
       "_model_module_version": "1.2.0",
       "_model_name": "LayoutModel",
       "_view_count": null,
       "_view_module": "@jupyter-widgets/base",
       "_view_module_version": "1.2.0",
       "_view_name": "LayoutView",
       "align_content": null,
       "align_items": null,
       "align_self": null,
       "border": null,
       "bottom": null,
       "display": null,
       "flex": null,
       "flex_flow": null,
       "grid_area": null,
       "grid_auto_columns": null,
       "grid_auto_flow": null,
       "grid_auto_rows": null,
       "grid_column": null,
       "grid_gap": null,
       "grid_row": null,
       "grid_template_areas": null,
       "grid_template_columns": null,
       "grid_template_rows": null,
       "height": null,
       "justify_content": null,
       "justify_items": null,
       "left": null,
       "margin": null,
       "max_height": null,
       "max_width": null,
       "min_height": null,
       "min_width": null,
       "object_fit": null,
       "object_position": null,
       "order": null,
       "overflow": null,
       "overflow_x": null,
       "overflow_y": null,
       "padding": null,
       "right": null,
       "top": null,
       "visibility": null,
       "width": null
      }
     },
     "a2327acde1154b11b92726890e2e5ac3": {
      "model_module": "@jupyter-widgets/controls",
      "model_module_version": "1.5.0",
      "model_name": "HTMLModel",
      "state": {
       "_dom_classes": [],
       "_model_module": "@jupyter-widgets/controls",
       "_model_module_version": "1.5.0",
       "_model_name": "HTMLModel",
       "_view_count": null,
       "_view_module": "@jupyter-widgets/controls",
       "_view_module_version": "1.5.0",
       "_view_name": "HTMLView",
       "description": "",
       "description_tooltip": null,
       "layout": "IPY_MODEL_1acf110b93cd4a39a53bf28c3ec45476",
       "placeholder": "​",
       "style": "IPY_MODEL_8ac9d0831ec44a638e12da9b520dfd1a",
       "value": "tokenizer.json: 100%"
      }
     },
     "a9faa611a0ff4d5ea5b110c635eaf0dc": {
      "model_module": "@jupyter-widgets/controls",
      "model_module_version": "1.5.0",
      "model_name": "HTMLModel",
      "state": {
       "_dom_classes": [],
       "_model_module": "@jupyter-widgets/controls",
       "_model_module_version": "1.5.0",
       "_model_name": "HTMLModel",
       "_view_count": null,
       "_view_module": "@jupyter-widgets/controls",
       "_view_module_version": "1.5.0",
       "_view_name": "HTMLView",
       "description": "",
       "description_tooltip": null,
       "layout": "IPY_MODEL_057669281e854709b46c065cb2c59da1",
       "placeholder": "​",
       "style": "IPY_MODEL_e11dee80c58b47bbbd1d97faafbd84e3",
       "value": " 17.1M/17.1M [00:00&lt;00:00, 34.4MB/s]"
      }
     },
     "aa0efc6ad8bf4c0dbd191079aa10a26c": {
      "model_module": "@jupyter-widgets/controls",
      "model_module_version": "1.5.0",
      "model_name": "FloatProgressModel",
      "state": {
       "_dom_classes": [],
       "_model_module": "@jupyter-widgets/controls",
       "_model_module_version": "1.5.0",
       "_model_name": "FloatProgressModel",
       "_view_count": null,
       "_view_module": "@jupyter-widgets/controls",
       "_view_module_version": "1.5.0",
       "_view_name": "ProgressView",
       "bar_style": "success",
       "description": "",
       "description_tooltip": null,
       "layout": "IPY_MODEL_4d239ec669dd40c08107b0c1fb3cb910",
       "max": 406.0,
       "min": 0.0,
       "orientation": "horizontal",
       "style": "IPY_MODEL_bf5cdfed703f44bbb53ac64eb98242ef",
       "value": 406.0
      }
     },
     "b16a75b86d2a4917a0d3b3a4132efb52": {
      "model_module": "@jupyter-widgets/controls",
      "model_module_version": "1.5.0",
      "model_name": "DescriptionStyleModel",
      "state": {
       "_model_module": "@jupyter-widgets/controls",
       "_model_module_version": "1.5.0",
       "_model_name": "DescriptionStyleModel",
       "_view_count": null,
       "_view_module": "@jupyter-widgets/base",
       "_view_module_version": "1.2.0",
       "_view_name": "StyleView",
       "description_width": ""
      }
     },
     "b4a0dd0bb5aa4c01bab627305d574800": {
      "model_module": "@jupyter-widgets/controls",
      "model_module_version": "1.5.0",
      "model_name": "HTMLModel",
      "state": {
       "_dom_classes": [],
       "_model_module": "@jupyter-widgets/controls",
       "_model_module_version": "1.5.0",
       "_model_name": "HTMLModel",
       "_view_count": null,
       "_view_module": "@jupyter-widgets/controls",
       "_view_module_version": "1.5.0",
       "_view_name": "HTMLView",
       "description": "",
       "description_tooltip": null,
       "layout": "IPY_MODEL_9ed51dbc3fc647b0ba831c034cef82f3",
       "placeholder": "​",
       "style": "IPY_MODEL_8f50808e8c63471e8a1050ae45db6a25",
       "value": " 406/406 [00:00&lt;00:00, 32.3kB/s]"
      }
     },
     "bf5cdfed703f44bbb53ac64eb98242ef": {
      "model_module": "@jupyter-widgets/controls",
      "model_module_version": "1.5.0",
      "model_name": "ProgressStyleModel",
      "state": {
       "_model_module": "@jupyter-widgets/controls",
       "_model_module_version": "1.5.0",
       "_model_name": "ProgressStyleModel",
       "_view_count": null,
       "_view_module": "@jupyter-widgets/base",
       "_view_module_version": "1.2.0",
       "_view_name": "StyleView",
       "bar_color": null,
       "description_width": ""
      }
     },
     "c139dd35126d4a8590b84ca955ab001c": {
      "model_module": "@jupyter-widgets/controls",
      "model_module_version": "1.5.0",
      "model_name": "HBoxModel",
      "state": {
       "_dom_classes": [],
       "_model_module": "@jupyter-widgets/controls",
       "_model_module_version": "1.5.0",
       "_model_name": "HBoxModel",
       "_view_count": null,
       "_view_module": "@jupyter-widgets/controls",
       "_view_module_version": "1.5.0",
       "_view_name": "HBoxView",
       "box_style": "",
       "children": [
        "IPY_MODEL_40ffd4036b604d988650f5d74518b2ef",
        "IPY_MODEL_dea0770bbf01426fa427b01ab72c4ea4",
        "IPY_MODEL_68e85d8593294542b06aec5ef302b465"
       ],
       "layout": "IPY_MODEL_33310d344db04f28993f4f954e9be8d9"
      }
     },
     "d232ec39c93f46b892a54321ef42960d": {
      "model_module": "@jupyter-widgets/base",
      "model_module_version": "1.2.0",
      "model_name": "LayoutModel",
      "state": {
       "_model_module": "@jupyter-widgets/base",
       "_model_module_version": "1.2.0",
       "_model_name": "LayoutModel",
       "_view_count": null,
       "_view_module": "@jupyter-widgets/base",
       "_view_module_version": "1.2.0",
       "_view_name": "LayoutView",
       "align_content": null,
       "align_items": null,
       "align_self": null,
       "border": null,
       "bottom": null,
       "display": null,
       "flex": null,
       "flex_flow": null,
       "grid_area": null,
       "grid_auto_columns": null,
       "grid_auto_flow": null,
       "grid_auto_rows": null,
       "grid_column": null,
       "grid_gap": null,
       "grid_row": null,
       "grid_template_areas": null,
       "grid_template_columns": null,
       "grid_template_rows": null,
       "height": null,
       "justify_content": null,
       "justify_items": null,
       "left": null,
       "margin": null,
       "max_height": null,
       "max_width": null,
       "min_height": null,
       "min_width": null,
       "object_fit": null,
       "object_position": null,
       "order": null,
       "overflow": null,
       "overflow_x": null,
       "overflow_y": null,
       "padding": null,
       "right": null,
       "top": null,
       "visibility": null,
       "width": null
      }
     },
     "d9d4c477bb4e49989e7c9e90c7a0b7a5": {
      "model_module": "@jupyter-widgets/base",
      "model_module_version": "1.2.0",
      "model_name": "LayoutModel",
      "state": {
       "_model_module": "@jupyter-widgets/base",
       "_model_module_version": "1.2.0",
       "_model_name": "LayoutModel",
       "_view_count": null,
       "_view_module": "@jupyter-widgets/base",
       "_view_module_version": "1.2.0",
       "_view_name": "LayoutView",
       "align_content": null,
       "align_items": null,
       "align_self": null,
       "border": null,
       "bottom": null,
       "display": null,
       "flex": null,
       "flex_flow": null,
       "grid_area": null,
       "grid_auto_columns": null,
       "grid_auto_flow": null,
       "grid_auto_rows": null,
       "grid_column": null,
       "grid_gap": null,
       "grid_row": null,
       "grid_template_areas": null,
       "grid_template_columns": null,
       "grid_template_rows": null,
       "height": null,
       "justify_content": null,
       "justify_items": null,
       "left": null,
       "margin": null,
       "max_height": null,
       "max_width": null,
       "min_height": null,
       "min_width": null,
       "object_fit": null,
       "object_position": null,
       "order": null,
       "overflow": null,
       "overflow_x": null,
       "overflow_y": null,
       "padding": null,
       "right": null,
       "top": null,
       "visibility": null,
       "width": null
      }
     },
     "dea0770bbf01426fa427b01ab72c4ea4": {
      "model_module": "@jupyter-widgets/controls",
      "model_module_version": "1.5.0",
      "model_name": "FloatProgressModel",
      "state": {
       "_dom_classes": [],
       "_model_module": "@jupyter-widgets/controls",
       "_model_module_version": "1.5.0",
       "_model_name": "FloatProgressModel",
       "_view_count": null,
       "_view_module": "@jupyter-widgets/controls",
       "_view_module_version": "1.5.0",
       "_view_name": "ProgressView",
       "bar_style": "success",
       "description": "",
       "description_tooltip": null,
       "layout": "IPY_MODEL_a18fd5bd6a894d3cb6b9fd0dcbd092d0",
       "max": 239.0,
       "min": 0.0,
       "orientation": "horizontal",
       "style": "IPY_MODEL_52f3e31897814db88480efb762d05e4b",
       "value": 239.0
      }
     },
     "df27643eaec04d24b606d58c5e6ea541": {
      "model_module": "@jupyter-widgets/controls",
      "model_module_version": "1.5.0",
      "model_name": "HBoxModel",
      "state": {
       "_dom_classes": [],
       "_model_module": "@jupyter-widgets/controls",
       "_model_module_version": "1.5.0",
       "_model_name": "HBoxModel",
       "_view_count": null,
       "_view_module": "@jupyter-widgets/controls",
       "_view_module_version": "1.5.0",
       "_view_name": "HBoxView",
       "box_style": "",
       "children": [
        "IPY_MODEL_3883304ec3d14d02a37584eb3cb3a0ec",
        "IPY_MODEL_e81613aac2534657948be58d1975e5e2",
        "IPY_MODEL_9b03be009d3b4983a1aba74db1bf0751"
       ],
       "layout": "IPY_MODEL_f3eaa4b067344f1a94212a2220b93aa2"
      }
     },
     "e11dee80c58b47bbbd1d97faafbd84e3": {
      "model_module": "@jupyter-widgets/controls",
      "model_module_version": "1.5.0",
      "model_name": "DescriptionStyleModel",
      "state": {
       "_model_module": "@jupyter-widgets/controls",
       "_model_module_version": "1.5.0",
       "_model_name": "DescriptionStyleModel",
       "_view_count": null,
       "_view_module": "@jupyter-widgets/base",
       "_view_module_version": "1.2.0",
       "_view_name": "StyleView",
       "description_width": ""
      }
     },
     "e4640fc5222948078df2c4600b07c210": {
      "model_module": "@jupyter-widgets/controls",
      "model_module_version": "1.5.0",
      "model_name": "DescriptionStyleModel",
      "state": {
       "_model_module": "@jupyter-widgets/controls",
       "_model_module_version": "1.5.0",
       "_model_name": "DescriptionStyleModel",
       "_view_count": null,
       "_view_module": "@jupyter-widgets/base",
       "_view_module_version": "1.2.0",
       "_view_name": "StyleView",
       "description_width": ""
      }
     },
     "e81613aac2534657948be58d1975e5e2": {
      "model_module": "@jupyter-widgets/controls",
      "model_module_version": "1.5.0",
      "model_name": "FloatProgressModel",
      "state": {
       "_dom_classes": [],
       "_model_module": "@jupyter-widgets/controls",
       "_model_module_version": "1.5.0",
       "_model_name": "FloatProgressModel",
       "_view_count": null,
       "_view_module": "@jupyter-widgets/controls",
       "_view_module_version": "1.5.0",
       "_view_name": "ProgressView",
       "bar_style": "success",
       "description": "",
       "description_tooltip": null,
       "layout": "IPY_MODEL_d232ec39c93f46b892a54321ef42960d",
       "max": 750.0,
       "min": 0.0,
       "orientation": "horizontal",
       "style": "IPY_MODEL_2097b4ea77e843f49e4c75a9ab951036",
       "value": 750.0
      }
     },
     "ed72c0568ab44b078806e6c4000fdc28": {
      "model_module": "@jupyter-widgets/base",
      "model_module_version": "1.2.0",
      "model_name": "LayoutModel",
      "state": {
       "_model_module": "@jupyter-widgets/base",
       "_model_module_version": "1.2.0",
       "_model_name": "LayoutModel",
       "_view_count": null,
       "_view_module": "@jupyter-widgets/base",
       "_view_module_version": "1.2.0",
       "_view_name": "LayoutView",
       "align_content": null,
       "align_items": null,
       "align_self": null,
       "border": null,
       "bottom": null,
       "display": null,
       "flex": null,
       "flex_flow": null,
       "grid_area": null,
       "grid_auto_columns": null,
       "grid_auto_flow": null,
       "grid_auto_rows": null,
       "grid_column": null,
       "grid_gap": null,
       "grid_row": null,
       "grid_template_areas": null,
       "grid_template_columns": null,
       "grid_template_rows": null,
       "height": null,
       "justify_content": null,
       "justify_items": null,
       "left": null,
       "margin": null,
       "max_height": null,
       "max_width": null,
       "min_height": null,
       "min_width": null,
       "object_fit": null,
       "object_position": null,
       "order": null,
       "overflow": null,
       "overflow_x": null,
       "overflow_y": null,
       "padding": null,
       "right": null,
       "top": null,
       "visibility": null,
       "width": null
      }
     },
     "f3eaa4b067344f1a94212a2220b93aa2": {
      "model_module": "@jupyter-widgets/base",
      "model_module_version": "1.2.0",
      "model_name": "LayoutModel",
      "state": {
       "_model_module": "@jupyter-widgets/base",
       "_model_module_version": "1.2.0",
       "_model_name": "LayoutModel",
       "_view_count": null,
       "_view_module": "@jupyter-widgets/base",
       "_view_module_version": "1.2.0",
       "_view_name": "LayoutView",
       "align_content": null,
       "align_items": null,
       "align_self": null,
       "border": null,
       "bottom": null,
       "display": null,
       "flex": null,
       "flex_flow": null,
       "grid_area": null,
       "grid_auto_columns": null,
       "grid_auto_flow": null,
       "grid_auto_rows": null,
       "grid_column": null,
       "grid_gap": null,
       "grid_row": null,
       "grid_template_areas": null,
       "grid_template_columns": null,
       "grid_template_rows": null,
       "height": null,
       "justify_content": null,
       "justify_items": null,
       "left": null,
       "margin": null,
       "max_height": null,
       "max_width": null,
       "min_height": null,
       "min_width": null,
       "object_fit": null,
       "object_position": null,
       "order": null,
       "overflow": null,
       "overflow_x": null,
       "overflow_y": null,
       "padding": null,
       "right": null,
       "top": null,
       "visibility": null,
       "width": null
      }
     },
     "f56a821812cc4049be28165193a8f34e": {
      "model_module": "@jupyter-widgets/controls",
      "model_module_version": "1.5.0",
      "model_name": "DescriptionStyleModel",
      "state": {
       "_model_module": "@jupyter-widgets/controls",
       "_model_module_version": "1.5.0",
       "_model_name": "DescriptionStyleModel",
       "_view_count": null,
       "_view_module": "@jupyter-widgets/base",
       "_view_module_version": "1.2.0",
       "_view_name": "StyleView",
       "description_width": ""
      }
     },
     "fe3d3cf4fb0d43f78f63d5269315c3ab": {
      "model_module": "@jupyter-widgets/base",
      "model_module_version": "1.2.0",
      "model_name": "LayoutModel",
      "state": {
       "_model_module": "@jupyter-widgets/base",
       "_model_module_version": "1.2.0",
       "_model_name": "LayoutModel",
       "_view_count": null,
       "_view_module": "@jupyter-widgets/base",
       "_view_module_version": "1.2.0",
       "_view_name": "LayoutView",
       "align_content": null,
       "align_items": null,
       "align_self": null,
       "border": null,
       "bottom": null,
       "display": null,
       "flex": null,
       "flex_flow": null,
       "grid_area": null,
       "grid_auto_columns": null,
       "grid_auto_flow": null,
       "grid_auto_rows": null,
       "grid_column": null,
       "grid_gap": null,
       "grid_row": null,
       "grid_template_areas": null,
       "grid_template_columns": null,
       "grid_template_rows": null,
       "height": null,
       "justify_content": null,
       "justify_items": null,
       "left": null,
       "margin": null,
       "max_height": null,
       "max_width": null,
       "min_height": null,
       "min_width": null,
       "object_fit": null,
       "object_position": null,
       "order": null,
       "overflow": null,
       "overflow_x": null,
       "overflow_y": null,
       "padding": null,
       "right": null,
       "top": null,
       "visibility": null,
       "width": null
      }
     },
     "ff25a63c341f44a0af027eabd260a228": {
      "model_module": "@jupyter-widgets/controls",
      "model_module_version": "1.5.0",
      "model_name": "HTMLModel",
      "state": {
       "_dom_classes": [],
       "_model_module": "@jupyter-widgets/controls",
       "_model_module_version": "1.5.0",
       "_model_name": "HTMLModel",
       "_view_count": null,
       "_view_module": "@jupyter-widgets/controls",
       "_view_module_version": "1.5.0",
       "_view_name": "HTMLView",
       "description": "",
       "description_tooltip": null,
       "layout": "IPY_MODEL_ff369eaaca36488aa4d3353b5bd5d9b8",
       "placeholder": "​",
       "style": "IPY_MODEL_325820b6f12b41a6bff8e6c163c064a3",
       "value": "tokenizer_config.json: 100%"
      }
     },
     "ff369eaaca36488aa4d3353b5bd5d9b8": {
      "model_module": "@jupyter-widgets/base",
      "model_module_version": "1.2.0",
      "model_name": "LayoutModel",
      "state": {
       "_model_module": "@jupyter-widgets/base",
       "_model_module_version": "1.2.0",
       "_model_name": "LayoutModel",
       "_view_count": null,
       "_view_module": "@jupyter-widgets/base",
       "_view_module_version": "1.2.0",
       "_view_name": "LayoutView",
       "align_content": null,
       "align_items": null,
       "align_self": null,
       "border": null,
       "bottom": null,
       "display": null,
       "flex": null,
       "flex_flow": null,
       "grid_area": null,
       "grid_auto_columns": null,
       "grid_auto_flow": null,
       "grid_auto_rows": null,
       "grid_column": null,
       "grid_gap": null,
       "grid_row": null,
       "grid_template_areas": null,
       "grid_template_columns": null,
       "grid_template_rows": null,
       "height": null,
       "justify_content": null,
       "justify_items": null,
       "left": null,
       "margin": null,
       "max_height": null,
       "max_width": null,
       "min_height": null,
       "min_width": null,
       "object_fit": null,
       "object_position": null,
       "order": null,
       "overflow": null,
       "overflow_x": null,
       "overflow_y": null,
       "padding": null,
       "right": null,
       "top": null,
       "visibility": null,
       "width": null
      }
     }
    },
    "version_major": 2,
    "version_minor": 0
   }
  }
 },
 "nbformat": 4,
 "nbformat_minor": 5
}
